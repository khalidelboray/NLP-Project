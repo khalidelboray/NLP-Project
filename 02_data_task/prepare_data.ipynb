{
 "cells": [
  {
   "cell_type": "code",
   "execution_count": 52,
   "metadata": {},
   "outputs": [],
   "source": [
    "import pickle\n",
    "import pandas as pd\n",
    "import numpy as np\n",
    "import warnings\n",
    "warnings.simplefilter(action='ignore', category=FutureWarning)\n",
    "\n",
    "%matplotlib inline\n"
   ]
  },
  {
   "cell_type": "code",
   "execution_count": 2,
   "metadata": {},
   "outputs": [],
   "source": [
    "def load_data(path = './'):\n",
    "    inbox_df = pd.read_csv(path + 'inbox.csv')\n",
    "    spam_df = pd.read_csv(path + 'gmail_spam.csv')\n",
    "    return inbox_df, spam_df"
   ]
  },
  {
   "cell_type": "code",
   "execution_count": 4,
   "metadata": {},
   "outputs": [
    {
     "data": {
      "text/html": [
       "<div>\n",
       "<style scoped>\n",
       "    .dataframe tbody tr th:only-of-type {\n",
       "        vertical-align: middle;\n",
       "    }\n",
       "\n",
       "    .dataframe tbody tr th {\n",
       "        vertical-align: top;\n",
       "    }\n",
       "\n",
       "    .dataframe thead th {\n",
       "        text-align: right;\n",
       "    }\n",
       "</style>\n",
       "<table border=\"1\" class=\"dataframe\">\n",
       "  <thead>\n",
       "    <tr style=\"text-align: right;\">\n",
       "      <th></th>\n",
       "      <th>id</th>\n",
       "      <th>text</th>\n",
       "      <th>subject</th>\n",
       "      <th>from</th>\n",
       "    </tr>\n",
       "  </thead>\n",
       "  <tbody>\n",
       "    <tr>\n",
       "      <th>0</th>\n",
       "      <td>12628</td>\n",
       "      <td>مختارات ‏‎Khaled‎‏\\r\\nمختارات Quora الخاصة بك\\...</td>\n",
       "      <td>ما هي الدورة الشهرية للرجال؟ كيف ومتى تحدث؟</td>\n",
       "      <td>arabic-personalized-digest@quora.com</td>\n",
       "    </tr>\n",
       "    <tr>\n",
       "      <th>1</th>\n",
       "      <td>12627</td>\n",
       "      <td>Khaled's Digest\\r\\n\\r\\n-----\\r\\n\\r\\nQuestion: ...</td>\n",
       "      <td>Is the JVM written in Java?</td>\n",
       "      <td>english-personalized-digest@quora.com</td>\n",
       "    </tr>\n",
       "    <tr>\n",
       "      <th>2</th>\n",
       "      <td>12626</td>\n",
       "      <td>Stories for Accnew\\r\\n@accnew820 (https://medi...</td>\n",
       "      <td>How I got Amazon Data Scientist Offer (2021) w...</td>\n",
       "      <td>noreply@medium.com</td>\n",
       "    </tr>\n",
       "    <tr>\n",
       "      <th>3</th>\n",
       "      <td>12625</td>\n",
       "      <td>NaN</td>\n",
       "      <td>Procrastinators, we see you 👀</td>\n",
       "      <td>team@hello.tailorbrands.com</td>\n",
       "    </tr>\n",
       "    <tr>\n",
       "      <th>4</th>\n",
       "      <td>12624</td>\n",
       "      <td>LinkedIn |  Your job alert for python develope...</td>\n",
       "      <td>1 new job for 'python developer'</td>\n",
       "      <td>jobalerts-noreply@linkedin.com</td>\n",
       "    </tr>\n",
       "  </tbody>\n",
       "</table>\n",
       "</div>"
      ],
      "text/plain": [
       "      id                                               text  \\\n",
       "0  12628  مختارات ‏‎Khaled‎‏\\r\\nمختارات Quora الخاصة بك\\...   \n",
       "1  12627  Khaled's Digest\\r\\n\\r\\n-----\\r\\n\\r\\nQuestion: ...   \n",
       "2  12626  Stories for Accnew\\r\\n@accnew820 (https://medi...   \n",
       "3  12625                                                NaN   \n",
       "4  12624  LinkedIn |  Your job alert for python develope...   \n",
       "\n",
       "                                             subject  \\\n",
       "0        ما هي الدورة الشهرية للرجال؟ كيف ومتى تحدث؟   \n",
       "1                        Is the JVM written in Java?   \n",
       "2  How I got Amazon Data Scientist Offer (2021) w...   \n",
       "3                      Procrastinators, we see you 👀   \n",
       "4                   1 new job for 'python developer'   \n",
       "\n",
       "                                    from  \n",
       "0   arabic-personalized-digest@quora.com  \n",
       "1  english-personalized-digest@quora.com  \n",
       "2                     noreply@medium.com  \n",
       "3            team@hello.tailorbrands.com  \n",
       "4         jobalerts-noreply@linkedin.com  "
      ]
     },
     "execution_count": 4,
     "metadata": {},
     "output_type": "execute_result"
    }
   ],
   "source": [
    "inbox_df , spam_df = load_data()\n",
    "inbox_df.head()"
   ]
  },
  {
   "cell_type": "code",
   "execution_count": 6,
   "metadata": {},
   "outputs": [
    {
     "name": "stdout",
     "output_type": "stream",
     "text": [
      "<class 'pandas.core.frame.DataFrame'>\n",
      "RangeIndex: 500 entries, 0 to 499\n",
      "Data columns (total 4 columns):\n",
      " #   Column   Non-Null Count  Dtype \n",
      "---  ------   --------------  ----- \n",
      " 0   id       500 non-null    int64 \n",
      " 1   text     463 non-null    object\n",
      " 2   subject  500 non-null    object\n",
      " 3   from     500 non-null    object\n",
      "dtypes: int64(1), object(3)\n",
      "memory usage: 15.8+ KB\n"
     ]
    }
   ],
   "source": [
    "inbox_df.info()"
   ]
  },
  {
   "cell_type": "code",
   "execution_count": 11,
   "metadata": {},
   "outputs": [],
   "source": [
    "def to_pickle(data,name, path = './'):\n",
    "    data.to_pickle(f'{path}{name}.pkl')\n",
    "\n",
    "to_pickle(inbox_df, 'inbox_df')\n",
    "to_pickle(spam_df, 'spam_df')"
   ]
  },
  {
   "cell_type": "code",
   "execution_count": 18,
   "metadata": {},
   "outputs": [],
   "source": [
    "inbox_df['class'] = 'ham'\n",
    "spam_df['class'] = 'spam'\n",
    "all_df = pd.concat([inbox_df, spam_df])\n",
    "all_df['class'] = all_df['class'].map({'spam':1, 'ham':0})\n",
    "all_df.head()\n",
    "to_pickle(all_df, 'all_df')"
   ]
  },
  {
   "cell_type": "code",
   "execution_count": 25,
   "metadata": {},
   "outputs": [
    {
     "name": "stdout",
     "output_type": "stream",
     "text": [
      "<class 'pandas.core.frame.DataFrame'>\n",
      "RangeIndex: 514 entries, 0 to 513\n",
      "Data columns (total 5 columns):\n",
      " #   Column   Non-Null Count  Dtype \n",
      "---  ------   --------------  ----- \n",
      " 0   id       514 non-null    int64 \n",
      " 1   text     511 non-null    object\n",
      " 2   subject  514 non-null    object\n",
      " 3   from     514 non-null    object\n",
      " 4   class    514 non-null    int64 \n",
      "dtypes: int64(2), object(3)\n",
      "memory usage: 20.2+ KB\n"
     ]
    }
   ],
   "source": [
    "with open('all_df.pkl','rb') as f:\n",
    "    emails_df = pickle.load(f)\n",
    "\n",
    "emails_df = emails_df.reset_index(drop=True)\n",
    "emails_df.info()"
   ]
  },
  {
   "cell_type": "code",
   "execution_count": 28,
   "metadata": {},
   "outputs": [
    {
     "data": {
      "text/html": [
       "<div>\n",
       "<style scoped>\n",
       "    .dataframe tbody tr th:only-of-type {\n",
       "        vertical-align: middle;\n",
       "    }\n",
       "\n",
       "    .dataframe tbody tr th {\n",
       "        vertical-align: top;\n",
       "    }\n",
       "\n",
       "    .dataframe thead th {\n",
       "        text-align: right;\n",
       "    }\n",
       "</style>\n",
       "<table border=\"1\" class=\"dataframe\">\n",
       "  <thead>\n",
       "    <tr style=\"text-align: right;\">\n",
       "      <th></th>\n",
       "      <th>id</th>\n",
       "      <th>text</th>\n",
       "      <th>subject</th>\n",
       "      <th>from</th>\n",
       "      <th>class</th>\n",
       "    </tr>\n",
       "  </thead>\n",
       "  <tbody>\n",
       "    <tr>\n",
       "      <th>0</th>\n",
       "      <td>12628</td>\n",
       "      <td>مختارات ‏‎khaled‎‏\\r مختارات quora الخاصة بك\\r...</td>\n",
       "      <td>ما هي الدورة الشهرية للرجال؟ كيف ومتى تحدث؟</td>\n",
       "      <td>arabic-personalized-digest@quora.com</td>\n",
       "      <td>0</td>\n",
       "    </tr>\n",
       "    <tr>\n",
       "      <th>1</th>\n",
       "      <td>12627</td>\n",
       "      <td>khaleds digest\\r \\r \\r \\r question is the jvm ...</td>\n",
       "      <td>Is the JVM written in Java?</td>\n",
       "      <td>english-personalized-digest@quora.com</td>\n",
       "      <td>0</td>\n",
       "    </tr>\n",
       "    <tr>\n",
       "      <th>2</th>\n",
       "      <td>12626</td>\n",
       "      <td>stories for accnew\\r accnew   \\r ·become a mem...</td>\n",
       "      <td>How I got Amazon Data Scientist Offer (2021) w...</td>\n",
       "      <td>noreply@medium.com</td>\n",
       "      <td>0</td>\n",
       "    </tr>\n",
       "    <tr>\n",
       "      <th>3</th>\n",
       "      <td>12625</td>\n",
       "      <td>nan</td>\n",
       "      <td>Procrastinators, we see you 👀</td>\n",
       "      <td>team@hello.tailorbrands.com</td>\n",
       "      <td>0</td>\n",
       "    </tr>\n",
       "    <tr>\n",
       "      <th>4</th>\n",
       "      <td>12624</td>\n",
       "      <td>linkedin   your job alert for python developer...</td>\n",
       "      <td>1 new job for 'python developer'</td>\n",
       "      <td>jobalerts-noreply@linkedin.com</td>\n",
       "      <td>0</td>\n",
       "    </tr>\n",
       "  </tbody>\n",
       "</table>\n",
       "</div>"
      ],
      "text/plain": [
       "      id                                               text  \\\n",
       "0  12628  مختارات ‏‎khaled‎‏\\r مختارات quora الخاصة بك\\r...   \n",
       "1  12627  khaleds digest\\r \\r \\r \\r question is the jvm ...   \n",
       "2  12626  stories for accnew\\r accnew   \\r ·become a mem...   \n",
       "3  12625                                                nan   \n",
       "4  12624  linkedin   your job alert for python developer...   \n",
       "\n",
       "                                             subject  \\\n",
       "0        ما هي الدورة الشهرية للرجال؟ كيف ومتى تحدث؟   \n",
       "1                        Is the JVM written in Java?   \n",
       "2  How I got Amazon Data Scientist Offer (2021) w...   \n",
       "3                      Procrastinators, we see you 👀   \n",
       "4                   1 new job for 'python developer'   \n",
       "\n",
       "                                    from  class  \n",
       "0   arabic-personalized-digest@quora.com      0  \n",
       "1  english-personalized-digest@quora.com      0  \n",
       "2                     noreply@medium.com      0  \n",
       "3            team@hello.tailorbrands.com      0  \n",
       "4         jobalerts-noreply@linkedin.com      0  "
      ]
     },
     "execution_count": 28,
     "metadata": {},
     "output_type": "execute_result"
    }
   ],
   "source": [
    "from string import punctuation\n",
    "import re\n",
    "def clean_email(email):\n",
    "    \"\"\" Remove all punctuation, urls, numbers, and newlines.\n",
    "    Convert to lower case.\n",
    "    Args:\n",
    "        email (unicode): the email\n",
    "    Returns:\n",
    "        email (unicode): only the text of the email\n",
    "    \"\"\"\n",
    "    \n",
    "    email = re.sub(r'http\\S+', ' ', email)\n",
    "    email = re.sub(\"\\d+\", \" \", email)\n",
    "    email = email.replace('\\n', ' ')\n",
    "    email = email.translate(str.maketrans(\"\", \"\", punctuation))\n",
    "    email = email.lower()\n",
    "    return email\n",
    "emails_df['text'] = emails_df['text'].apply(str)\n",
    "emails_df['text'] = emails_df['text'].apply(clean_email)\n",
    "emails_df.head()"
   ]
  },
  {
   "cell_type": "code",
   "execution_count": 31,
   "metadata": {},
   "outputs": [
    {
     "data": {
      "text/plain": [
       "'مختارات \\u200f\\u200ekhaled\\u200e\\u200f مختارات quora الخاصة بك السؤال ما هي الدورة الشهرية للرجال؟ كيف ومتى تحدث؟ إجابة من \\u200fدهــب au\\u200f ربما سمعت بعض الأحاديث التي تدور حول الدورة الشهرية للرجال،هل بالفعل لدى الرجل دورة شهرية؟ تعرف الدورة الشهرية للرجال بدورة التستوستيرون اليومية، وذلك لأنه هذا الهرمون هو اله قراءة النشرة \\u200f\\u200e السؤال هل تعرضت للتحرش أو الاغتصاب وقمت بأخذ حقك بعدها؟ إجابة من \\u200fمحمد الموسوي mohammad almusawi\\u200f نعم أتذكر مرة تعرضت للتحرش ربما البعض يستغرب مني و أنا رجل فكيف تم التحرش بي ؟ عنده ذهابي الى السوق يوم الجمعة في سنة كان عمري سنة تقريبأ ،كنت في الباص مع بقية الناس قراءة النشرة \\u200f\\u200e السؤال لماذا الإنسان لا يعطس وهو نائم؟ إجابة من سماء احمد اليس هذا احد الأسئلة التي تخطر علي بال جميعنا؟ ادركت أنه لنعرف السبب خلف عدم العطس اثناء النوم علينا ان نعرف اولًا كيف يحدث فعل العطس؟ ما يحدث هو كالتالي، العطس ناتج عن قراءة النشرة \\u200f\\u200e السؤال كيف أتقن اللغة الإنجليزية بشكلٍ تام وكأنَّها لغتي الأُم؟ إجابة من \\u200f\\u200ehasnaa abdul\\u200e\\u200f مرحباً أحمد وشكراً على طلب إجابتي إتقان اللغات الأجنبية ومنها الإنجليزية يعتمد على عدة نقاط أولها تعلم النطق الصحيح والقراءة بصوت مسموع للنصوص والتدرب المستمر على ذلك ثاني قراءة النشرة \\u200f\\u200e السؤال هل أنجب هابيل أولاداً قبل مماته أَم نحن أبناء القاتل قابيل؟ إجابة من \\u200fآية الجندى aya mohamed\\u200f لسنا أبناء القاتل ولا المقتول إذن فمن نحن؟ السؤال ذكرنى بمقالة بالعامية كتبتها على صفحتى الشخصية بالفيسبوك عن من يتساؤلون أنحن أبناء القاتل أم المقتول؟ نحن أبناء شيث قراءة النشرة \\u200f\\u200e للتحكم في رسائل البريد الإلكتروني التي نرسلها إليك، قم بزيارة \\u200f\\u200e لإلغاء الاشتراك في هذا النوع من البريد الإلكتروني، قم بزيارة \\u200f\\u200e '"
      ]
     },
     "execution_count": 31,
     "metadata": {},
     "output_type": "execute_result"
    }
   ],
   "source": [
    "import nltk\n",
    "from nltk.stem.snowball import SnowballStemmer\n",
    "# nltk.download('wordnet') # uncomment to download 'wordnet'\n",
    "from nltk.corpus import wordnet as wn\n",
    "def preproces_text(email):\n",
    "    \"\"\" Split the text string into individual words, stem each word,\n",
    "    and append the stemmed word to words. Make sure there's a single\n",
    "    space between each stemmed word.\n",
    "    Args:\n",
    "        email (unicode): the email\n",
    "    Returns:\n",
    "        words (unicode): the text of the email\n",
    "    \"\"\"\n",
    "    \n",
    "    words = \"\"\n",
    "    # Create the stemmer.\n",
    "    stemmer = SnowballStemmer(\"english\")\n",
    "    # Split text into words.\n",
    "    email = email.split()\n",
    "    for word in email:\n",
    "        # Optional: remove unknown words.\n",
    "        # if wn.synsets(word):\n",
    "        words = words + stemmer.stem(word) + \" \"\n",
    "    \n",
    "    return words\n",
    "emails_df['text'] = emails_df['text'].apply(preproces_text)\n",
    "emails_df['text'][0]\n",
    "\n"
   ]
  },
  {
   "cell_type": "code",
   "execution_count": 32,
   "metadata": {},
   "outputs": [
    {
     "data": {
      "text/html": [
       "<div>\n",
       "<style scoped>\n",
       "    .dataframe tbody tr th:only-of-type {\n",
       "        vertical-align: middle;\n",
       "    }\n",
       "\n",
       "    .dataframe tbody tr th {\n",
       "        vertical-align: top;\n",
       "    }\n",
       "\n",
       "    .dataframe thead tr th {\n",
       "        text-align: left;\n",
       "    }\n",
       "\n",
       "    .dataframe thead tr:last-of-type th {\n",
       "        text-align: right;\n",
       "    }\n",
       "</style>\n",
       "<table border=\"1\" class=\"dataframe\">\n",
       "  <thead>\n",
       "    <tr>\n",
       "      <th></th>\n",
       "      <th colspan=\"8\" halign=\"left\">id</th>\n",
       "    </tr>\n",
       "    <tr>\n",
       "      <th></th>\n",
       "      <th>count</th>\n",
       "      <th>mean</th>\n",
       "      <th>std</th>\n",
       "      <th>min</th>\n",
       "      <th>25%</th>\n",
       "      <th>50%</th>\n",
       "      <th>75%</th>\n",
       "      <th>max</th>\n",
       "    </tr>\n",
       "    <tr>\n",
       "      <th>class</th>\n",
       "      <th></th>\n",
       "      <th></th>\n",
       "      <th></th>\n",
       "      <th></th>\n",
       "      <th></th>\n",
       "      <th></th>\n",
       "      <th></th>\n",
       "      <th></th>\n",
       "    </tr>\n",
       "  </thead>\n",
       "  <tbody>\n",
       "    <tr>\n",
       "      <th>0</th>\n",
       "      <td>500.0</td>\n",
       "      <td>12377.878</td>\n",
       "      <td>144.999658</td>\n",
       "      <td>12127.0</td>\n",
       "      <td>12252.75</td>\n",
       "      <td>12377.5</td>\n",
       "      <td>12503.25</td>\n",
       "      <td>12628.0</td>\n",
       "    </tr>\n",
       "    <tr>\n",
       "      <th>1</th>\n",
       "      <td>14.0</td>\n",
       "      <td>771.500</td>\n",
       "      <td>4.183300</td>\n",
       "      <td>765.0</td>\n",
       "      <td>768.25</td>\n",
       "      <td>771.5</td>\n",
       "      <td>774.75</td>\n",
       "      <td>778.0</td>\n",
       "    </tr>\n",
       "  </tbody>\n",
       "</table>\n",
       "</div>"
      ],
      "text/plain": [
       "          id                                                               \\\n",
       "       count       mean         std      min       25%      50%       75%   \n",
       "class                                                                       \n",
       "0      500.0  12377.878  144.999658  12127.0  12252.75  12377.5  12503.25   \n",
       "1       14.0    771.500    4.183300    765.0    768.25    771.5    774.75   \n",
       "\n",
       "                \n",
       "           max  \n",
       "class           \n",
       "0      12628.0  \n",
       "1        778.0  "
      ]
     },
     "execution_count": 32,
     "metadata": {},
     "output_type": "execute_result"
    }
   ],
   "source": [
    "emails_df.groupby('class').describe()\n"
   ]
  },
  {
   "cell_type": "code",
   "execution_count": 45,
   "metadata": {},
   "outputs": [
    {
     "data": {
      "text/plain": [
       "Text(0.5, 1.0, 'Count Plot')"
      ]
     },
     "execution_count": 45,
     "metadata": {},
     "output_type": "execute_result"
    },
    {
     "data": {
      "image/png": "[encoded data removed]",
      "text/plain": [
       "<Figure size 576x288 with 1 Axes>"
      ]
     },
     "metadata": {},
     "output_type": "display_data"
    }
   ],
   "source": [
    "import matplotlib.pyplot as plt\n",
    "import seaborn as sns\n",
    "sns.set_style('darkgrid')\n",
    "\n",
    "plt.figure(figsize=(8,4))\n",
    "sns.countplot(x='class', data=emails_df)\n",
    "\n",
    "plt.title('Count Plot')"
   ]
  },
  {
   "cell_type": "code",
   "execution_count": 37,
   "metadata": {},
   "outputs": [
    {
     "data": {
      "text/html": [
       "<div>\n",
       "<style scoped>\n",
       "    .dataframe tbody tr th:only-of-type {\n",
       "        vertical-align: middle;\n",
       "    }\n",
       "\n",
       "    .dataframe tbody tr th {\n",
       "        vertical-align: top;\n",
       "    }\n",
       "\n",
       "    .dataframe thead th {\n",
       "        text-align: right;\n",
       "    }\n",
       "</style>\n",
       "<table border=\"1\" class=\"dataframe\">\n",
       "  <thead>\n",
       "    <tr style=\"text-align: right;\">\n",
       "      <th></th>\n",
       "      <th>id</th>\n",
       "      <th>text</th>\n",
       "      <th>subject</th>\n",
       "      <th>from</th>\n",
       "      <th>class</th>\n",
       "      <th>length</th>\n",
       "    </tr>\n",
       "  </thead>\n",
       "  <tbody>\n",
       "    <tr>\n",
       "      <th>0</th>\n",
       "      <td>12628</td>\n",
       "      <td>مختارات ‏‎khaled‎‏ مختارات quora الخاصة بك الس...</td>\n",
       "      <td>ما هي الدورة الشهرية للرجال؟ كيف ومتى تحدث؟</td>\n",
       "      <td>arabic-personalized-digest@quora.com</td>\n",
       "      <td>0</td>\n",
       "      <td>1518</td>\n",
       "    </tr>\n",
       "    <tr>\n",
       "      <th>1</th>\n",
       "      <td>12627</td>\n",
       "      <td>khale digest question is the jvm written in ja...</td>\n",
       "      <td>Is the JVM written in Java?</td>\n",
       "      <td>english-personalized-digest@quora.com</td>\n",
       "      <td>0</td>\n",
       "      <td>1203</td>\n",
       "    </tr>\n",
       "    <tr>\n",
       "      <th>2</th>\n",
       "      <td>12626</td>\n",
       "      <td>stori for accnew accnew ·becom a member today ...</td>\n",
       "      <td>How I got Amazon Data Scientist Offer (2021) w...</td>\n",
       "      <td>noreply@medium.com</td>\n",
       "      <td>0</td>\n",
       "      <td>3778</td>\n",
       "    </tr>\n",
       "    <tr>\n",
       "      <th>3</th>\n",
       "      <td>12625</td>\n",
       "      <td>nan</td>\n",
       "      <td>Procrastinators, we see you 👀</td>\n",
       "      <td>team@hello.tailorbrands.com</td>\n",
       "      <td>0</td>\n",
       "      <td>4</td>\n",
       "    </tr>\n",
       "    <tr>\n",
       "      <th>4</th>\n",
       "      <td>12624</td>\n",
       "      <td>linkedin your job alert for python develop in ...</td>\n",
       "      <td>1 new job for 'python developer'</td>\n",
       "      <td>jobalerts-noreply@linkedin.com</td>\n",
       "      <td>0</td>\n",
       "      <td>557</td>\n",
       "    </tr>\n",
       "  </tbody>\n",
       "</table>\n",
       "</div>"
      ],
      "text/plain": [
       "      id                                               text  \\\n",
       "0  12628  مختارات ‏‎khaled‎‏ مختارات quora الخاصة بك الس...   \n",
       "1  12627  khale digest question is the jvm written in ja...   \n",
       "2  12626  stori for accnew accnew ·becom a member today ...   \n",
       "3  12625                                               nan    \n",
       "4  12624  linkedin your job alert for python develop in ...   \n",
       "\n",
       "                                             subject  \\\n",
       "0        ما هي الدورة الشهرية للرجال؟ كيف ومتى تحدث؟   \n",
       "1                        Is the JVM written in Java?   \n",
       "2  How I got Amazon Data Scientist Offer (2021) w...   \n",
       "3                      Procrastinators, we see you 👀   \n",
       "4                   1 new job for 'python developer'   \n",
       "\n",
       "                                    from  class  length  \n",
       "0   arabic-personalized-digest@quora.com      0    1518  \n",
       "1  english-personalized-digest@quora.com      0    1203  \n",
       "2                     noreply@medium.com      0    3778  \n",
       "3            team@hello.tailorbrands.com      0       4  \n",
       "4         jobalerts-noreply@linkedin.com      0     557  "
      ]
     },
     "execution_count": 37,
     "metadata": {},
     "output_type": "execute_result"
    }
   ],
   "source": [
    "emails_df['length'] = emails_df['text'].apply(len)\n",
    "emails_df.head()"
   ]
  },
  {
   "cell_type": "code",
   "execution_count": 39,
   "metadata": {},
   "outputs": [
    {
     "data": {
      "text/plain": [
       "<seaborn.axisgrid.FacetGrid at 0x7fa33e7d2550>"
      ]
     },
     "execution_count": 39,
     "metadata": {},
     "output_type": "execute_result"
    },
    {
     "data": {
      "text/plain": [
       "<Figure size 576x288 with 0 Axes>"
      ]
     },
     "metadata": {},
     "output_type": "display_data"
    },
    {
     "data": {
      "image/png": "[encoded data removed]",
      "text/plain": [
       "<Figure size 360x360 with 1 Axes>"
      ]
     },
     "metadata": {
      "needs_background": "light"
     },
     "output_type": "display_data"
    }
   ],
   "source": [
    "plt.figure(figsize=(8,4))\n",
    "sns.displot(emails_df[('length')])"
   ]
  },
  {
   "cell_type": "code",
   "execution_count": 53,
   "metadata": {},
   "outputs": [
    {
     "data": {
      "text/plain": [
       "<matplotlib.legend.Legend at 0x7fa33df2a340>"
      ]
     },
     "execution_count": 53,
     "metadata": {},
     "output_type": "execute_result"
    },
    {
     "data": {
      "image/png": "[encoded data removed]",
      "text/plain": [
       "<Figure size 576x288 with 1 Axes>"
      ]
     },
     "metadata": {
      "needs_background": "light"
     },
     "output_type": "display_data"
    }
   ],
   "source": [
    "g = sns.FacetGrid(data=emails_df, hue=\"class\", height=4, aspect=2)\n",
    "g.map(sns.distplot, 'length', bins=30)\n",
    "g.set(xticks=np.arange(0,1000,50))\n",
    "plt.legend()"
   ]
  }
 ],
 "metadata": {
  "interpreter": {
   "hash": "31f2aee4e71d21fbe5cf8b01ff0e069b9275f58929596ceb00d14d90e3e16cd6"
  },
  "kernelspec": {
   "display_name": "Python 3.8.10 64-bit",
   "language": "python",
   "name": "python3"
  },
  "language_info": {
   "codemirror_mode": {
    "name": "ipython",
    "version": 3
   },
   "file_extension": ".py",
   "mimetype": "text/x-python",
   "name": "python",
   "nbconvert_exporter": "python",
   "pygments_lexer": "ipython3",
   "version": "3.8.10"
  },
  "orig_nbformat": 4
 },
 "nbformat": 4,
 "nbformat_minor": 2
}
