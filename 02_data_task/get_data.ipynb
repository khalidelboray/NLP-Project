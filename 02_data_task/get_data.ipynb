{
 "cells": [
  {
   "cell_type": "code",
   "execution_count": 1,
   "metadata": {},
   "outputs": [
    {
     "name": "stdout",
     "output_type": "stream",
     "text": [
      "Requirement already satisfied: imap_tools in /home/khalidelborai/.local/lib/python3.8/site-packages (0.50.0)\n",
      "Requirement already satisfied: tqdm in /home/khalidelborai/.local/lib/python3.8/site-packages (4.62.3)\n",
      "Note: you may need to restart the kernel to use updated packages.\n"
     ]
    }
   ],
   "source": [
    "%pip install imap_tools tqdm"
   ]
  },
  {
   "cell_type": "code",
   "execution_count": 4,
   "metadata": {},
   "outputs": [
    {
     "name": "stdout",
     "output_type": "stream",
     "text": [
      "Overwriting get_data.py\n"
     ]
    }
   ],
   "source": [
    "#%%writefile get_data.py\n",
    "from imap_tools import MailBox\n",
    "import sys\n",
    "if 'ipykernel' in sys.modules:\n",
    "    from tqdm.notebook import tqdm\n",
    "else:\n",
    "    from tqdm import tqdm\n",
    "from os import mkdir\n",
    "import csv\n",
    "folders = ['INBOX','[Gmail]/Spam']\n",
    "with MailBox('imap.gmail.com').login('youremail@gmail.com', 'yourappPassword') as mailbox:\n",
    "    for folder in tqdm(folders):\n",
    "        name = folder.replace('/', '_').replace('[', '').replace(']', '').lower()\n",
    "        out_file = open(f\"{name}.csv\",'w')\n",
    "        writer = csv.DictWriter(out_file, fieldnames=['id','text','subject','from'])\n",
    "        writer.writeheader()\n",
    "        mailbox.folder.set(folder)\n",
    "        messeges = mailbox.fetch(reverse=True,limit=500)\n",
    "        for messege in tqdm(messeges,total= 500):\n",
    "            writer.writerow({'subject': messege.subject,'from': messege.from_,'text': messege.text,'id': messege.uid})\n",
    "            out_file.flush()\n",
    "        out_file.close()"
   ]
  }
 ],
 "metadata": {
  "interpreter": {
   "hash": "31f2aee4e71d21fbe5cf8b01ff0e069b9275f58929596ceb00d14d90e3e16cd6"
  },
  "kernelspec": {
   "display_name": "Python 3.8.10 64-bit",
   "language": "python",
   "name": "python3"
  },
  "language_info": {
   "codemirror_mode": {
    "name": "ipython",
    "version": 3
   },
   "file_extension": ".py",
   "mimetype": "text/x-python",
   "name": "python",
   "nbconvert_exporter": "python",
   "pygments_lexer": "ipython3",
   "version": "3.8.10"
  },
  "orig_nbformat": 4
 },
 "nbformat": 4,
 "nbformat_minor": 2
}
